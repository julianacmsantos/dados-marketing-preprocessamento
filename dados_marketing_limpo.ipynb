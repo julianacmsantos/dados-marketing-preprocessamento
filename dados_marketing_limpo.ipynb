{
  "cells": [
    {
      "cell_type": "code",
      "execution_count": null,
      "metadata": {
        "id": "4294fbf3"
      },
      "outputs": [],
      "source": [
        "import pandas as pd\n",
        "import os\n",
        "import numpy as np"
      ]
    },
    {
      "cell_type": "markdown",
      "metadata": {
        "id": "1c7c23c1"
      },
      "source": [
        "### Carregamento e Inspeção Inicial dos Dados"
      ]
    },
    {
      "cell_type": "code",
      "execution_count": null,
      "metadata": {
        "collapsed": true,
        "id": "144e7614"
      },
      "outputs": [],
      "source": [
        "# Carregar o dataset\n",
        "df = pd.read_csv('**local data***/dados_marketing.csv', sep=';')\n",
        "\n",
        "# Verificar nulos\n",
        "print(df.isnull().sum())"
      ]
    },
    {
      "cell_type": "markdown",
      "metadata": {
        "id": "ef88e030"
      },
      "source": [
        "### Tratamento de Valores Nulos"
      ]
    },
    {
      "cell_type": "code",
      "execution_count": null,
      "metadata": {
        "collapsed": true,
        "id": "8fd6ac50"
      },
      "outputs": [],
      "source": [
        "# Análise dos registros com 'Salario Anual' nulo\n",
        "salarios_nulos = df[df['Salario Anual'].isnull()]\n",
        "print(pd.DataFrame(salarios_nulos['ID']).rename(columns={'ID': 'ID com Salário Nulo'}))"
      ]
    },
    {
      "cell_type": "code",
      "execution_count": null,
      "metadata": {
        "id": "a4dCvwVMpPMz"
      },
      "outputs": [],
      "source": [
        "# Remoção dos nulos\n",
        "df_inicial = df.shape[0]\n",
        "df = df.dropna(subset=['Salario Anual'])\n",
        "df_sem_nulos = df.shape[0]\n",
        "print(f'Foram removidas {df_inicial - df_sem_nulos} linhas com salário nulo.')"
      ]
    },
    {
      "cell_type": "markdown",
      "metadata": {
        "id": "018591e3"
      },
      "source": [
        "### Tratamento de Duplicatas"
      ]
    },
    {
      "cell_type": "code",
      "execution_count": null,
      "metadata": {
        "id": "32a8be72"
      },
      "outputs": [],
      "source": [
        "# Remoção de duplicatas\n",
        "duplicatas = df[df.duplicated()]\n",
        "soma_duplicadas = df.duplicated().sum()\n",
        "df = df.drop_duplicates()\n",
        "print(f'Foram removidas {soma_duplicadas} linhas duplicadas.')"
      ]
    },
    {
      "cell_type": "markdown",
      "metadata": {
        "id": "bb11a725"
      },
      "source": [
        "### Engenharia de Atributos"
      ]
    },
    {
      "cell_type": "code",
      "execution_count": null,
      "metadata": {
        "id": "308478f6"
      },
      "outputs": [],
      "source": [
        "# Conversão de datas\n",
        "df['Data Cadastro'] = pd.to_datetime(df['Data Cadastro'], dayfirst=True)"
      ]
    },
    {
      "cell_type": "code",
      "execution_count": null,
      "metadata": {
        "collapsed": true,
        "id": "z5fNA58Zplw7"
      },
      "outputs": [],
      "source": [
        "# Criação de atributos derivados da Data de Cadastro\n",
        "df['Ano Cadastro'] = df['Data Cadastro'].dt.year\n",
        "df['Mes Cadastro'] = df['Data Cadastro'].dt.month\n",
        "df['Mes Nome Cadastro'] = df['Data Cadastro'].dt.month_name()\n",
        "df['Dia Cadastro'] = df['Data Cadastro'].dt.day\n",
        "df['Dia Semana Cadastro'] = df['Data Cadastro'].dt.day_name()\n",
        "df['Semana Cadastro'] = df['Data Cadastro'].dt.isocalendar().week\n",
        "\n",
        "df['Idade'] = 2025 - df['Ano Nascimento']"
      ]
    },
    {
      "cell_type": "code",
      "execution_count": null,
      "metadata": {
        "id": "gjj8wOrj4U5e"
      },
      "outputs": [],
      "source": [
        "# Criação de atributos de segmentação de idade\n",
        "df['Faixa Etária'] = pd.cut(df['Idade'], bins=[17,30,45,60,100], labels=['18-30', '31-45', '46-60', '60+'])"
      ]
    },
    {
      "cell_type": "code",
      "execution_count": null,
      "metadata": {
        "id": "XbaAx-eY8GU8"
      },
      "outputs": [],
      "source": [
        "# Criação de atributo binário para presença ou não de filhos/adolescentes\n",
        "df['Filhos'] = np.where(df['Filhos em Casa'] > 0, 1, 0) | np.where(df['Adolescentes em Casa'] > 0, 1, 0)"
      ]
    },
    {
      "cell_type": "markdown",
      "metadata": {
        "id": "e6d19053"
      },
      "source": [
        "### Criação de Métricas Derivadas"
      ]
    },
    {
      "cell_type": "code",
      "execution_count": null,
      "metadata": {
        "id": "2f9cb497"
      },
      "outputs": [],
      "source": [
        "# Criação de métricas derivadas de gastos\n",
        "gastos = ['Gasto com Eletronicos', 'Gasto com Brinquedos', 'Gasto com Moveis',\n",
        "          'Gasto com Utilidades', 'Gasto com Alimentos', 'Gasto com Vestuario']\n",
        "df['Gasto Total'] = df[gastos].sum(axis=1)\n",
        "compras = ['Numero de Compras com Desconto', 'Numero de Compras na Web',\n",
        "           'Numero de Compras via Catalogo', 'Numero de Compras na Loja']\n",
        "df['Total Compras'] = df[compras].sum(axis=1)"
      ]
    },
    {
      "cell_type": "code",
      "execution_count": null,
      "metadata": {
        "id": "St-j8SBnC500"
      },
      "outputs": [],
      "source": [
        "# Criação de métricas derivadas de campanhas\n",
        "df['Comprou em Campanha'] = np.where(df[[c for c in df.columns if 'campanha' in c.lower()]].sum(axis=1) > 0, 1, 0)\n",
        "df['Engajamento em campanhas'] = df[[c for c in df.columns if 'campanha' in c.lower()]].sum(axis=1)"
      ]
    },
    {
      "cell_type": "code",
      "execution_count": null,
      "metadata": {
        "collapsed": true,
        "id": "6HlAgl8rH9oI"
      },
      "outputs": [],
      "source": [
        "# Descrição do dataframe após a inclusão de novas colunas\n",
        "df.info()"
      ]
    },
    {
      "cell_type": "markdown",
      "metadata": {
        "id": "9c93d3cc"
      },
      "source": [
        "### Padronização e Conversão de Tipos de Dados"
      ]
    },
    {
      "cell_type": "code",
      "execution_count": null,
      "metadata": {
        "id": "RMctU9F4UbJe"
      },
      "outputs": [],
      "source": [
        "# Função para padronizar tipos de dados\n",
        "def padronizar_tipos_numericos(df):\n",
        "    # Colunas que devem ser float64\n",
        "    colunas_float = [\n",
        "        'Salario Anual',\n",
        "        'Gasto com Eletronicos',\n",
        "        'Gasto com Brinquedos',\n",
        "        'Gasto com Moveis',\n",
        "        'Gasto com Utilidades',\n",
        "        'Gasto com Alimentos',\n",
        "        'Gasto com Vestuario',\n",
        "        'Gasto Total'\n",
        "    ]\n",
        "\n",
        "    # Colunas que devem ser int64\n",
        "    colunas_int = [\n",
        "        'ID',\n",
        "        'Ano Nascimento',\n",
        "        'Filhos em Casa',\n",
        "        'Adolescentes em Casa',\n",
        "        'Dias Desde Ultima Compra',\n",
        "        'Numero de Compras com Desconto',\n",
        "        'Numero de Compras na Web',\n",
        "        'Numero de Compras via Catalogo',\n",
        "        'Numero de Compras na Loja',\n",
        "        'Numero Visitas WebSite Mes',\n",
        "        'Compra na Campanha 1',\n",
        "        'Compra na Campanha 2',\n",
        "        'Compra na Campanha 3',\n",
        "        'Compra na Campanha 4',\n",
        "        'Compra na Campanha 5',\n",
        "        'Comprou',\n",
        "        'Ano Cadastro',\n",
        "        'Mes Cadastro',\n",
        "        'Dia Cadastro',\n",
        "        'Semana Cadastro',\n",
        "        'Idade',\n",
        "        'Filhos',\n",
        "        'Total Compras',\n",
        "        'Comprou em Campanha',\n",
        "        'Engajamento em campanhas'\n",
        "    ]\n",
        "\n",
        "    # Aplica conversão\n",
        "    for col in colunas_float:\n",
        "        df[col] = df[col].astype('float64')\n",
        "\n",
        "    for col in colunas_int:\n",
        "        df[col] = df[col].astype('int64')\n",
        "\n",
        "    return df\n"
      ]
    },
    {
      "cell_type": "code",
      "execution_count": null,
      "metadata": {
        "id": "S-8uWHAXUdZe"
      },
      "outputs": [],
      "source": [
        "# Chama a função para efetivar a padronização\n",
        "df = padronizar_tipos_numericos(df)"
      ]
    },
    {
      "cell_type": "code",
      "execution_count": null,
      "metadata": {
        "collapsed": true,
        "id": "17dfb175"
      },
      "outputs": [],
      "source": [
        "# Conversão de colunas binárias (valores 0 e 1) para Sim/Não\n",
        "colunas_binarias = [col for col in df.columns\n",
        "                    if df[col].dtype == 'int64' and set(df[col].unique()) <= {0, 1}]\n",
        "\n",
        "# Converte para Sim/Não\n",
        "for col in colunas_binarias:\n",
        "    df[col] = df[col].map({1: 'Sim', 0: 'Não'})"
      ]
    },
    {
      "cell_type": "markdown",
      "metadata": {
        "id": "f3a571d1"
      },
      "source": [
        "### Padronização de Nomes de Colunas"
      ]
    },
    {
      "cell_type": "code",
      "execution_count": null,
      "metadata": {
        "id": "3139c308"
      },
      "outputs": [],
      "source": [
        "# Padronização de nomes de colunas\n",
        "df.columns = df.columns.str.strip().str.lower().str.replace(' ', '_').str.replace('ã', 'a').str.replace('ç', 'c').str.replace('é', 'e').str.replace('í', 'i').str.replace('ó', 'o').str.replace('ú', 'u')"
      ]
    },
    {
      "cell_type": "code",
      "execution_count": null,
      "metadata": {
        "id": "aYr0b5xVYTNG"
      },
      "outputs": [],
      "source": [
        "# Verificação da padronização de colunas\n",
        "print(df.columns.tolist())"
      ]
    },
    {
      "cell_type": "markdown",
      "metadata": {
        "id": "PcnwMX8RWo5V"
      },
      "source": [
        "### Tradução de Dias e Meses (inglês > português)"
      ]
    },
    {
      "cell_type": "code",
      "execution_count": null,
      "metadata": {
        "id": "V3CtMFKGW3R2"
      },
      "outputs": [],
      "source": [
        "# Mapeamento de dias da semana do inglês para português\n",
        "dias_semana = {\n",
        "    'Monday': 'Segunda-feira',\n",
        "    'Tuesday': 'Terça-feira',\n",
        "    'Wednesday': 'Quarta-feira',\n",
        "    'Thursday': 'Quinta-feira',\n",
        "    'Friday': 'Sexta-feira',\n",
        "    'Saturday': 'Sábado',\n",
        "    'Sunday': 'Domingo'\n",
        "}\n",
        "\n",
        "# Aplica a tradução\n",
        "df['dia_semana_cadastro'] = df['dia_semana_cadastro'].map(dias_semana)"
      ]
    },
    {
      "cell_type": "code",
      "execution_count": null,
      "metadata": {
        "id": "28a3m5f1XEfO"
      },
      "outputs": [],
      "source": [
        "# Verificar se a tradução foi devidamente aplicada\n",
        "print(df['dia_semana_cadastro'].unique())"
      ]
    },
    {
      "cell_type": "code",
      "execution_count": null,
      "metadata": {
        "id": "9YQ2VuwG5XQs"
      },
      "outputs": [],
      "source": [
        "# Mapeamento de meses do ano do inglês para português\n",
        "meses_ano = {\n",
        "    'January': 'Janeiro',\n",
        "    'February': 'Fevereiro',\n",
        "    'March': 'Março',\n",
        "    'April': 'Abril',\n",
        "    'May': 'Maio',\n",
        "    'June': 'Junho',\n",
        "    'July': 'Julho',\n",
        "    'August': 'Agosto',\n",
        "    'September': 'Setembro',\n",
        "    'October': 'Outubro',\n",
        "    'November': 'Novembro',\n",
        "    'December': 'Dezembro'\n",
        "}\n",
        "\n",
        "# Aplica a tradução\n",
        "df['mes_nome_cadastro'] = df['mes_nome_cadastro'].map(meses_ano)"
      ]
    },
    {
      "cell_type": "code",
      "execution_count": null,
      "metadata": {
        "id": "2yLqaAwG5ocN"
      },
      "outputs": [],
      "source": [
        "# Verificar se a tradução foi devidamente aplicada\n",
        "print(df['mes_nome_cadastro'].unique())"
      ]
    },
    {
      "cell_type": "markdown",
      "metadata": {
        "id": "R7VqyhpAb80G"
      },
      "source": [
        "### Checagem final das colunas"
      ]
    },
    {
      "cell_type": "code",
      "execution_count": null,
      "metadata": {
        "collapsed": true,
        "id": "nkN_kLBdY5l3"
      },
      "outputs": [],
      "source": [
        "for col in df.columns:\n",
        "    print(f\"\\n🔹 Coluna: {col}\")\n",
        "    valores = df[col].unique()\n",
        "    print(valores if len(valores) <= 20 else f\"{len(valores)} valores únicos. Exibindo os 20 primeiros:\")\n",
        "    print(valores[:20])"
      ]
    },
    {
      "cell_type": "markdown",
      "metadata": {
        "id": "Sd5Tu2m0b3Kc"
      },
      "source": [
        "### Estatísticas Básicas"
      ]
    },
    {
      "cell_type": "code",
      "execution_count": null,
      "metadata": {
        "collapsed": true,
        "id": "lQ54kk4-YBI_"
      },
      "outputs": [],
      "source": [
        "# Seleciona colunas numéricas, excluindo 'id' e datas\n",
        "colunas_numericas = df.select_dtypes(include=['int64', 'float64']).columns\n",
        "colunas_numericas = [col for col in colunas_numericas if col != 'id']\n",
        "\n",
        "# Exibe estatísticas básicas\n",
        "print(df[colunas_numericas].describe())"
      ]
    },
    {
      "cell_type": "markdown",
      "metadata": {
        "id": "010c57ff"
      },
      "source": [
        "### Detecção de Outliers"
      ]
    },
    {
      "cell_type": "code",
      "execution_count": null,
      "metadata": {
        "collapsed": true,
        "id": "8af23bdb"
      },
      "outputs": [],
      "source": [
        "outliers = {}\n",
        "\n",
        "for col in colunas_numericas:\n",
        "    Q1 = df[col].quantile(0.25)\n",
        "    Q3 = df[col].quantile(0.75)\n",
        "    IQR = Q3 - Q1\n",
        "    limite_inferior = Q1 - 1.5 * IQR\n",
        "    limite_superior = Q3 + 1.5 * IQR\n",
        "\n",
        "    # Identifica outliers\n",
        "    outlier_mask = (df[col] < limite_inferior) | (df[col] > limite_superior)\n",
        "    outliers[col] = df[col][outlier_mask]\n",
        "\n",
        "    print(f\"\\nColuna: {col}\")\n",
        "    print(f\"Outliers detectados: {outlier_mask.sum()}\")\n",
        "    print(f\"Valores extremos: {df[col][outlier_mask].unique()}\")"
      ]
    },
    {
      "cell_type": "markdown",
      "metadata": {
        "id": "HB8XsE9Eq93z"
      },
      "source": [
        "### Tratamento de Outliers"
      ]
    },
    {
      "cell_type": "code",
      "execution_count": null,
      "metadata": {
        "collapsed": true,
        "id": "bCIfuDa4tXJ-"
      },
      "outputs": [],
      "source": [
        "# Localiza registros com ano de nascimento incoerente\n",
        "df_outliers_nascimento = df[df['ano_nascimento'] < 1920]\n",
        "print(df_outliers_nascimento[['id', 'idade', 'ano_nascimento']])"
      ]
    },
    {
      "cell_type": "code",
      "execution_count": null,
      "metadata": {
        "collapsed": true,
        "id": "wzFIf-wMwS1V"
      },
      "outputs": [],
      "source": [
        "# Remoção dos registros de idade incoerente\n",
        "df_sem_nulos = df.shape[0]\n",
        "df = df.drop(df_outliers_nascimento.index)\n",
        "df_sem_ano_incoerente = df.shape[0]\n",
        "print(f'Foram removidas {df_sem_nulos - df_sem_ano_incoerente} linhas com idade incoerente.')"
      ]
    },
    {
      "cell_type": "markdown",
      "metadata": {
        "id": "46c975f5"
      },
      "source": [
        "### Salvamento do Dataset Limpo"
      ]
    },
    {
      "cell_type": "code",
      "execution_count": null,
      "metadata": {
        "collapsed": true,
        "id": "qjk9WsC5pD3X"
      },
      "outputs": [],
      "source": [
        "print(f'Tamanho inicial do DataFrame: {df_inicial} linhas')\n",
        "print(f'Tamanho final do DataFrame: {df.shape[0]} linhas')\n",
        "print(f'Total de linhas removidas: {df_inicial - df.shape[0]} linhas')\n",
        "\n",
        "porcentagem = (df_inicial - df.shape[0]) / df_inicial * 100\n",
        "print(f'Porcentagem de linhas removidas: {porcentagem: .2f} %')"
      ]
    },
    {
      "cell_type": "code",
      "execution_count": null,
      "metadata": {
        "id": "86f7d470"
      },
      "outputs": [],
      "source": [
        "# Salvamento condicional\n",
        "output_path = '***local data***/dados_marketing_limpo.csv'\n",
        "output_dir = os.path.dirname(output_path)\n",
        "\n",
        "if not os.path.exists(output_dir):\n",
        "    os.makedirs(output_dir)\n",
        "\n",
        "df.to_csv(output_path, index=False, encoding='utf-8')\n",
        "print(f'Dataset limpo salvo em: {output_path}')"
      ]
    }
  ],
  "metadata": {
    "colab": {
      "collapsed_sections": [
        "1c7c23c1",
        "ef88e030",
        "018591e3",
        "bb11a725",
        "e6d19053",
        "9c93d3cc",
        "f3a571d1",
        "PcnwMX8RWo5V",
        "R7VqyhpAb80G",
        "Sd5Tu2m0b3Kc"
      ],
      "provenance": []
    },
    "kernelspec": {
      "display_name": "Python 3",
      "name": "python3"
    },
    "language_info": {
      "name": "python"
    }
  },
  "nbformat": 4,
  "nbformat_minor": 0
}
