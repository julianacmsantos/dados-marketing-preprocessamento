{
  "cells": [
    {
      "cell_type": "code",
      "execution_count": 31,
      "metadata": {
        "id": "4294fbf3"
      },
      "outputs": [],
      "source": [
        "import pandas as pd\n",
        "import os\n",
        "import numpy as np"
      ]
    },
    {
      "cell_type": "markdown",
      "metadata": {
        "id": "1c7c23c1"
      },
      "source": [
        "### Carregamento e Inspeção Inicial dos Dados"
      ]
    },
    {
      "cell_type": "code",
      "execution_count": null,
      "metadata": {
        "colab": {
          "base_uri": "https://localhost:8080/"
        },
        "collapsed": true,
        "id": "144e7614",
        "outputId": "f51f2e0c-bd6d-4c6b-d496-5eee6be31c5b"
      },
      "outputs": [
        {
          "name": "stdout",
          "output_type": "stream",
          "text": [
            "ID                                 0\n",
            "Ano Nascimento                     0\n",
            "Escolaridade                       0\n",
            "Estado Civil                       0\n",
            "Salario Anual                     19\n",
            "Filhos em Casa                     0\n",
            "Adolescentes em Casa               0\n",
            "Data Cadastro                      0\n",
            "Dias Desde Ultima Compra           0\n",
            "Gasto com Eletronicos              0\n",
            "Gasto com Brinquedos               0\n",
            "Gasto com Moveis                   0\n",
            "Gasto com Utilidades               0\n",
            "Gasto com Alimentos                0\n",
            "Gasto com Vestuario                0\n",
            "Numero de Compras com Desconto     0\n",
            "Numero de Compras na Web           0\n",
            "Numero de Compras via Catalogo     0\n",
            "Numero de Compras na Loja          0\n",
            "Numero Visitas WebSite Mes         0\n",
            "Compra na Campanha 1               0\n",
            "Compra na Campanha 2               0\n",
            "Compra na Campanha 3               0\n",
            "Compra na Campanha 4               0\n",
            "Compra na Campanha 5               0\n",
            "Comprou                            0\n",
            "Pais                               0\n",
            "dtype: int64\n"
          ]
        }
      ],
      "source": [
        "# Carregar o dataset\n",
        "df = pd.read_csv('dados_marketing.csv', sep=';')\n",
        "\n",
        "# Verificar nulos\n",
        "print(df.isnull().sum())"
      ]
    },
    {
      "cell_type": "markdown",
      "metadata": {
        "id": "ef88e030"
      },
      "source": [
        "### Tratamento de Valores Nulos"
      ]
    },
    {
      "cell_type": "code",
      "execution_count": 33,
      "metadata": {
        "colab": {
          "base_uri": "https://localhost:8080/"
        },
        "collapsed": true,
        "id": "8fd6ac50",
        "outputId": "1fa2d4f7-13a2-41c7-c009-24fd6832b588"
      },
      "outputs": [
        {
          "name": "stdout",
          "output_type": "stream",
          "text": [
            "      ID com Salário Nulo\n",
            "134                  8996\n",
            "262                  1994\n",
            "394                  3769\n",
            "449                  5255\n",
            "525                  8268\n",
            "590                 10629\n",
            "899                 10475\n",
            "997                  9235\n",
            "1185                 7187\n",
            "1312                 8557\n",
            "1515                 2863\n",
            "1558                 2437\n",
            "1693                 5250\n",
            "1804                 7281\n",
            "1858                 1612\n",
            "1863                 5079\n",
            "1880                10339\n",
            "1967                 5798\n",
            "1983                 2902\n"
          ]
        }
      ],
      "source": [
        "# Análise dos registros com 'Salario Anual' nulo\n",
        "salarios_nulos = df[df['Salario Anual'].isnull()]\n",
        "print(pd.DataFrame(salarios_nulos['ID']).rename(columns={'ID': 'ID com Salário Nulo'}))"
      ]
    },
    {
      "cell_type": "code",
      "execution_count": 34,
      "metadata": {
        "colab": {
          "base_uri": "https://localhost:8080/"
        },
        "id": "a4dCvwVMpPMz",
        "outputId": "c2fdb5e9-539a-4190-8384-c026ca2bf650"
      },
      "outputs": [
        {
          "name": "stdout",
          "output_type": "stream",
          "text": [
            "Foram removidas 19 linhas com salário nulo.\n"
          ]
        }
      ],
      "source": [
        "# Remoção dos nulos\n",
        "df_inicial = df.shape[0]\n",
        "df = df.dropna(subset=['Salario Anual'])\n",
        "df_sem_nulos = df.shape[0]\n",
        "print(f'Foram removidas {df_inicial - df_sem_nulos} linhas com salário nulo.')"
      ]
    },
    {
      "cell_type": "markdown",
      "metadata": {
        "id": "018591e3"
      },
      "source": [
        "### Tratamento de Duplicatas"
      ]
    },
    {
      "cell_type": "code",
      "execution_count": 35,
      "metadata": {
        "colab": {
          "base_uri": "https://localhost:8080/"
        },
        "id": "32a8be72",
        "outputId": "27fea09d-8c2e-446c-b263-4aba8ee6243a"
      },
      "outputs": [
        {
          "name": "stdout",
          "output_type": "stream",
          "text": [
            "Foram removidas 0 linhas duplicadas.\n"
          ]
        }
      ],
      "source": [
        "# Remoção de duplicatas\n",
        "duplicatas = df[df.duplicated()]\n",
        "soma_duplicadas = df.duplicated().sum()\n",
        "df = df.drop_duplicates()\n",
        "print(f'Foram removidas {soma_duplicadas} linhas duplicadas.')"
      ]
    },
    {
      "cell_type": "markdown",
      "metadata": {
        "id": "bb11a725"
      },
      "source": [
        "### Engenharia de Atributos"
      ]
    },
    {
      "cell_type": "code",
      "execution_count": 36,
      "metadata": {
        "id": "308478f6"
      },
      "outputs": [],
      "source": [
        "# Conversão de datas\n",
        "df['Data Cadastro'] = pd.to_datetime(df['Data Cadastro'], dayfirst=True)"
      ]
    },
    {
      "cell_type": "code",
      "execution_count": 37,
      "metadata": {
        "collapsed": true,
        "id": "z5fNA58Zplw7"
      },
      "outputs": [],
      "source": [
        "# Criação de atributos derivados da Data de Cadastro\n",
        "df['Ano Cadastro'] = df['Data Cadastro'].dt.year\n",
        "df['Mes Cadastro'] = df['Data Cadastro'].dt.month\n",
        "df['Mes Nome Cadastro'] = df['Data Cadastro'].dt.month_name()\n",
        "df['Dia Cadastro'] = df['Data Cadastro'].dt.day\n",
        "df['Dia Semana Cadastro'] = df['Data Cadastro'].dt.day_name()\n",
        "df['Semana Cadastro'] = df['Data Cadastro'].dt.isocalendar().week\n",
        "\n",
        "df['Idade'] = 2025 - df['Ano Nascimento']"
      ]
    },
    {
      "cell_type": "code",
      "execution_count": 38,
      "metadata": {
        "id": "gjj8wOrj4U5e"
      },
      "outputs": [],
      "source": [
        "# Criação de atributos de segmentação de idade\n",
        "df['Faixa Etária'] = pd.cut(df['Idade'], bins=[17,30,45,60,100], labels=['18-30', '31-45', '46-60', '60+'])"
      ]
    },
    {
      "cell_type": "code",
      "execution_count": 39,
      "metadata": {
        "id": "XbaAx-eY8GU8"
      },
      "outputs": [],
      "source": [
        "# Criação de atributo binário para presença ou não de filhos/adolescentes\n",
        "df['Filhos'] = np.where(df['Filhos em Casa'] > 0, 1, 0) | np.where(df['Adolescentes em Casa'] > 0, 1, 0)"
      ]
    },
    {
      "cell_type": "markdown",
      "metadata": {
        "id": "e6d19053"
      },
      "source": [
        "### Criação de Métricas Derivadas"
      ]
    },
    {
      "cell_type": "code",
      "execution_count": 40,
      "metadata": {
        "id": "2f9cb497"
      },
      "outputs": [],
      "source": [
        "# Criação de métricas derivadas de gastos\n",
        "gastos = ['Gasto com Eletronicos', 'Gasto com Brinquedos', 'Gasto com Moveis',\n",
        "          'Gasto com Utilidades', 'Gasto com Alimentos', 'Gasto com Vestuario']\n",
        "df['Gasto Total'] = df[gastos].sum(axis=1)\n",
        "compras = ['Numero de Compras com Desconto', 'Numero de Compras na Web',\n",
        "           'Numero de Compras via Catalogo', 'Numero de Compras na Loja']\n",
        "df['Total Compras'] = df[compras].sum(axis=1)"
      ]
    },
    {
      "cell_type": "code",
      "execution_count": 41,
      "metadata": {
        "id": "St-j8SBnC500"
      },
      "outputs": [],
      "source": [
        "# Criação de métricas derivadas de campanhas\n",
        "df['Comprou em Campanha'] = np.where(df[[c for c in df.columns if 'campanha' in c.lower()]].sum(axis=1) > 0, 1, 0)\n",
        "df['Engajamento em campanhas'] = df[[c for c in df.columns if 'campanha' in c.lower()]].sum(axis=1)"
      ]
    },
    {
      "cell_type": "code",
      "execution_count": 42,
      "metadata": {
        "colab": {
          "base_uri": "https://localhost:8080/"
        },
        "collapsed": true,
        "id": "6HlAgl8rH9oI",
        "outputId": "c02c3814-71c1-413e-82d0-67d8eeefa567"
      },
      "outputs": [
        {
          "name": "stdout",
          "output_type": "stream",
          "text": [
            "<class 'pandas.core.frame.DataFrame'>\n",
            "Index: 1981 entries, 0 to 1999\n",
            "Data columns (total 40 columns):\n",
            " #   Column                          Non-Null Count  Dtype         \n",
            "---  ------                          --------------  -----         \n",
            " 0   ID                              1981 non-null   int64         \n",
            " 1   Ano Nascimento                  1981 non-null   int64         \n",
            " 2   Escolaridade                    1981 non-null   object        \n",
            " 3   Estado Civil                    1981 non-null   object        \n",
            " 4   Salario Anual                   1981 non-null   float64       \n",
            " 5   Filhos em Casa                  1981 non-null   int64         \n",
            " 6   Adolescentes em Casa            1981 non-null   int64         \n",
            " 7   Data Cadastro                   1981 non-null   datetime64[ns]\n",
            " 8   Dias Desde Ultima Compra        1981 non-null   int64         \n",
            " 9   Gasto com Eletronicos           1981 non-null   int64         \n",
            " 10  Gasto com Brinquedos            1981 non-null   int64         \n",
            " 11  Gasto com Moveis                1981 non-null   int64         \n",
            " 12  Gasto com Utilidades            1981 non-null   int64         \n",
            " 13  Gasto com Alimentos             1981 non-null   int64         \n",
            " 14  Gasto com Vestuario             1981 non-null   int64         \n",
            " 15  Numero de Compras com Desconto  1981 non-null   int64         \n",
            " 16  Numero de Compras na Web        1981 non-null   int64         \n",
            " 17  Numero de Compras via Catalogo  1981 non-null   int64         \n",
            " 18  Numero de Compras na Loja       1981 non-null   int64         \n",
            " 19  Numero Visitas WebSite Mes      1981 non-null   int64         \n",
            " 20  Compra na Campanha 1            1981 non-null   int64         \n",
            " 21  Compra na Campanha 2            1981 non-null   int64         \n",
            " 22  Compra na Campanha 3            1981 non-null   int64         \n",
            " 23  Compra na Campanha 4            1981 non-null   int64         \n",
            " 24  Compra na Campanha 5            1981 non-null   int64         \n",
            " 25  Comprou                         1981 non-null   int64         \n",
            " 26  Pais                            1981 non-null   object        \n",
            " 27  Ano Cadastro                    1981 non-null   int32         \n",
            " 28  Mes Cadastro                    1981 non-null   int32         \n",
            " 29  Mes Nome Cadastro               1981 non-null   object        \n",
            " 30  Dia Cadastro                    1981 non-null   int32         \n",
            " 31  Dia Semana Cadastro             1981 non-null   object        \n",
            " 32  Semana Cadastro                 1981 non-null   UInt32        \n",
            " 33  Idade                           1981 non-null   int64         \n",
            " 34  Faixa Etária                    1979 non-null   category      \n",
            " 35  Filhos                          1981 non-null   int64         \n",
            " 36  Gasto Total                     1981 non-null   int64         \n",
            " 37  Total Compras                   1981 non-null   int64         \n",
            " 38  Comprou em Campanha             1981 non-null   int64         \n",
            " 39  Engajamento em campanhas        1981 non-null   int64         \n",
            "dtypes: UInt32(1), category(1), datetime64[ns](1), float64(1), int32(3), int64(28), object(5)\n",
            "memory usage: 592.2+ KB\n"
          ]
        }
      ],
      "source": [
        "# Descrição do dataframe após a inclusão de novas colunas\n",
        "df.info()"
      ]
    },
    {
      "cell_type": "markdown",
      "metadata": {
        "id": "9c93d3cc"
      },
      "source": [
        "### Padronização e Conversão de Tipos de Dados"
      ]
    },
    {
      "cell_type": "code",
      "execution_count": 43,
      "metadata": {
        "id": "RMctU9F4UbJe"
      },
      "outputs": [],
      "source": [
        "# Função para padronizar tipos de dados\n",
        "def padronizar_tipos_numericos(df):\n",
        "    # Colunas que devem ser float64\n",
        "    colunas_float = [\n",
        "        'Salario Anual',\n",
        "        'Gasto com Eletronicos',\n",
        "        'Gasto com Brinquedos',\n",
        "        'Gasto com Moveis',\n",
        "        'Gasto com Utilidades',\n",
        "        'Gasto com Alimentos',\n",
        "        'Gasto com Vestuario',\n",
        "        'Gasto Total'\n",
        "    ]\n",
        "\n",
        "    # Colunas que devem ser int64\n",
        "    colunas_int = [\n",
        "        'ID',\n",
        "        'Ano Nascimento',\n",
        "        'Filhos em Casa',\n",
        "        'Adolescentes em Casa',\n",
        "        'Dias Desde Ultima Compra',\n",
        "        'Numero de Compras com Desconto',\n",
        "        'Numero de Compras na Web',\n",
        "        'Numero de Compras via Catalogo',\n",
        "        'Numero de Compras na Loja',\n",
        "        'Numero Visitas WebSite Mes',\n",
        "        'Compra na Campanha 1',\n",
        "        'Compra na Campanha 2',\n",
        "        'Compra na Campanha 3',\n",
        "        'Compra na Campanha 4',\n",
        "        'Compra na Campanha 5',\n",
        "        'Comprou',\n",
        "        'Ano Cadastro',\n",
        "        'Mes Cadastro',\n",
        "        'Dia Cadastro',\n",
        "        'Semana Cadastro',\n",
        "        'Idade',\n",
        "        'Filhos',\n",
        "        'Total Compras',\n",
        "        'Comprou em Campanha',\n",
        "        'Engajamento em campanhas'\n",
        "    ]\n",
        "\n",
        "    # Aplica conversão\n",
        "    for col in colunas_float:\n",
        "        df[col] = df[col].astype('float64')\n",
        "\n",
        "    for col in colunas_int:\n",
        "        df[col] = df[col].astype('int64')\n",
        "\n",
        "    return df\n"
      ]
    },
    {
      "cell_type": "code",
      "execution_count": 44,
      "metadata": {
        "id": "S-8uWHAXUdZe"
      },
      "outputs": [],
      "source": [
        "# Chama a função para efetivar a padronização\n",
        "df = padronizar_tipos_numericos(df)"
      ]
    },
    {
      "cell_type": "code",
      "execution_count": 45,
      "metadata": {
        "collapsed": true,
        "id": "17dfb175"
      },
      "outputs": [],
      "source": [
        "# Conversão de colunas binárias (valores 0 e 1) para Sim/Não\n",
        "colunas_binarias = [col for col in df.columns\n",
        "                    if df[col].dtype == 'int64' and set(df[col].unique()) <= {0, 1}]\n",
        "\n",
        "# Converte para Sim/Não\n",
        "for col in colunas_binarias:\n",
        "    df[col] = df[col].map({1: 'Sim', 0: 'Não'})"
      ]
    },
    {
      "cell_type": "markdown",
      "metadata": {
        "id": "f3a571d1"
      },
      "source": [
        "### Padronização de Nomes de Colunas"
      ]
    },
    {
      "cell_type": "code",
      "execution_count": 46,
      "metadata": {
        "id": "3139c308"
      },
      "outputs": [],
      "source": [
        "# Padronização de nomes de colunas\n",
        "df.columns = df.columns.str.strip().str.lower().str.replace(' ', '_').str.replace('ã', 'a').str.replace('ç', 'c').str.replace('é', 'e').str.replace('í', 'i').str.replace('ó', 'o').str.replace('ú', 'u')"
      ]
    },
    {
      "cell_type": "code",
      "execution_count": 47,
      "metadata": {
        "colab": {
          "base_uri": "https://localhost:8080/"
        },
        "id": "aYr0b5xVYTNG",
        "outputId": "fce36aa6-2ba6-4c2a-d58e-6483cb5ab996"
      },
      "outputs": [
        {
          "name": "stdout",
          "output_type": "stream",
          "text": [
            "['id', 'ano_nascimento', 'escolaridade', 'estado_civil', 'salario_anual', 'filhos_em_casa', 'adolescentes_em_casa', 'data_cadastro', 'dias_desde_ultima_compra', 'gasto_com_eletronicos', 'gasto_com_brinquedos', 'gasto_com_moveis', 'gasto_com_utilidades', 'gasto_com_alimentos', 'gasto_com_vestuario', 'numero_de_compras_com_desconto', 'numero_de_compras_na_web', 'numero_de_compras_via_catalogo', 'numero_de_compras_na_loja', 'numero_visitas_website_mes', 'compra_na_campanha_1', 'compra_na_campanha_2', 'compra_na_campanha_3', 'compra_na_campanha_4', 'compra_na_campanha_5', 'comprou', 'pais', 'ano_cadastro', 'mes_cadastro', 'mes_nome_cadastro', 'dia_cadastro', 'dia_semana_cadastro', 'semana_cadastro', 'idade', 'faixa_etária', 'filhos', 'gasto_total', 'total_compras', 'comprou_em_campanha', 'engajamento_em_campanhas']\n"
          ]
        }
      ],
      "source": [
        "# Verificação da padronização de colunas\n",
        "print(df.columns.tolist())"
      ]
    },
    {
      "cell_type": "markdown",
      "metadata": {
        "id": "PcnwMX8RWo5V"
      },
      "source": [
        "### Tradução de Dias e Meses (inglês > português)"
      ]
    },
    {
      "cell_type": "code",
      "execution_count": 48,
      "metadata": {
        "id": "V3CtMFKGW3R2"
      },
      "outputs": [],
      "source": [
        "# Mapeamento de dias da semana do inglês para português\n",
        "dias_semana = {\n",
        "    'Monday': 'Segunda-feira',\n",
        "    'Tuesday': 'Terça-feira',\n",
        "    'Wednesday': 'Quarta-feira',\n",
        "    'Thursday': 'Quinta-feira',\n",
        "    'Friday': 'Sexta-feira',\n",
        "    'Saturday': 'Sábado',\n",
        "    'Sunday': 'Domingo'\n",
        "}\n",
        "\n",
        "# Aplica a tradução\n",
        "df['dia_semana_cadastro'] = df['dia_semana_cadastro'].map(dias_semana)"
      ]
    },
    {
      "cell_type": "code",
      "execution_count": 49,
      "metadata": {
        "colab": {
          "base_uri": "https://localhost:8080/"
        },
        "id": "28a3m5f1XEfO",
        "outputId": "4b8b1547-c44b-4ba3-999a-f051da240b4e"
      },
      "outputs": [
        {
          "name": "stdout",
          "output_type": "stream",
          "text": [
            "['Terça-feira' 'Sexta-feira' 'Quarta-feira' 'Segunda-feira' 'Sábado'\n",
            " 'Quinta-feira' 'Domingo']\n"
          ]
        }
      ],
      "source": [
        "# Verificar se a tradução foi devidamente aplicada\n",
        "print(df['dia_semana_cadastro'].unique())"
      ]
    },
    {
      "cell_type": "code",
      "execution_count": 50,
      "metadata": {
        "id": "9YQ2VuwG5XQs"
      },
      "outputs": [],
      "source": [
        "# Mapeamento de meses do ano do inglês para português\n",
        "meses_ano = {\n",
        "    'January': 'Janeiro',\n",
        "    'February': 'Fevereiro',\n",
        "    'March': 'Março',\n",
        "    'April': 'Abril',\n",
        "    'May': 'Maio',\n",
        "    'June': 'Junho',\n",
        "    'July': 'Julho',\n",
        "    'August': 'Agosto',\n",
        "    'September': 'Setembro',\n",
        "    'October': 'Outubro',\n",
        "    'November': 'Novembro',\n",
        "    'December': 'Dezembro'\n",
        "}\n",
        "\n",
        "# Aplica a tradução\n",
        "df['mes_nome_cadastro'] = df['mes_nome_cadastro'].map(meses_ano)"
      ]
    },
    {
      "cell_type": "code",
      "execution_count": 51,
      "metadata": {
        "colab": {
          "base_uri": "https://localhost:8080/"
        },
        "id": "2yLqaAwG5ocN",
        "outputId": "55ab90bf-50f2-4c3f-d94b-813f1482f645"
      },
      "outputs": [
        {
          "name": "stdout",
          "output_type": "stream",
          "text": [
            "['Janeiro' 'Dezembro' 'Fevereiro' 'Maio' 'Novembro' 'Abril' 'Julho'\n",
            " 'Março' 'Agosto' 'Setembro' 'Outubro' 'Junho']\n"
          ]
        }
      ],
      "source": [
        "# Verificar se a tradução foi devidamente aplicada\n",
        "print(df['mes_nome_cadastro'].unique())"
      ]
    },
    {
      "cell_type": "markdown",
      "metadata": {
        "id": "R7VqyhpAb80G"
      },
      "source": [
        "### Checagem final das colunas"
      ]
    },
    {
      "cell_type": "code",
      "execution_count": 52,
      "metadata": {
        "colab": {
          "base_uri": "https://localhost:8080/"
        },
        "collapsed": true,
        "id": "nkN_kLBdY5l3",
        "outputId": "7386da73-2177-4d4f-a6e6-69586363ed3b"
      },
      "outputs": [
        {
          "name": "stdout",
          "output_type": "stream",
          "text": [
            "\n",
            "🔹 Coluna: id\n",
            "1981 valores únicos. Exibindo os 20 primeiros:\n",
            "[ 2795  2285   115 10470  4065 10968  5985  5430  8432   453  1826     1\n",
            " 10476  1386  5371  7348  4073  1991  4047  9477]\n",
            "\n",
            "🔹 Coluna: ano_nascimento\n",
            "57 valores únicos. Exibindo os 20 primeiros:\n",
            "[1958 1954 1966 1979 1976 1969 1965 1956 1970 1961 1967 1989 1947 1959\n",
            " 1981 1977 1960 1975 1971 1986]\n",
            "\n",
            "🔹 Coluna: escolaridade\n",
            "['Mestrado' 'Doutorado' 'Curso Superior' 'Segundo Grau' 'Primeiro Grau']\n",
            "['Mestrado' 'Doutorado' 'Curso Superior' 'Segundo Grau' 'Primeiro Grau']\n",
            "\n",
            "🔹 Coluna: estado_civil\n",
            "['Solteiro' 'Casado' 'Divorciado']\n",
            "['Solteiro' 'Casado' 'Divorciado']\n",
            "\n",
            "🔹 Coluna: salario_anual\n",
            "1769 valores únicos. Exibindo os 20 primeiros:\n",
            "[30523. 36634. 43456. 40662. 49544. 57731. 33168. 54450. 35340. 84835.\n",
            " 57091. 67267. 32474. 21474. 71691. 63564. 44931. 65324. 81044. 62499.]\n",
            "\n",
            "🔹 Coluna: filhos_em_casa\n",
            "[2 0 1]\n",
            "[2 0 1]\n",
            "\n",
            "🔹 Coluna: adolescentes_em_casa\n",
            "[1 0 2]\n",
            "[1 0 2]\n",
            "\n",
            "🔹 Coluna: data_cadastro\n",
            "387 valores únicos. Exibindo os 20 primeiros:\n",
            "<DatetimeArray>\n",
            "['2020-01-07 00:00:00', '2023-12-05 00:00:00', '2023-02-03 00:00:00',\n",
            " '2023-05-03 00:00:00', '2020-11-02 00:00:00', '2022-04-11 00:00:00',\n",
            " '2022-12-10 00:00:00', '2022-04-09 00:00:00', '2021-07-06 00:00:00',\n",
            " '2021-03-06 00:00:00', '2021-07-05 00:00:00', '2018-11-05 00:00:00',\n",
            " '2018-08-04 00:00:00', '2021-02-03 00:00:00', '2021-07-01 00:00:00',\n",
            " '2021-04-01 00:00:00', '2018-11-01 00:00:00', '2023-03-12 00:00:00',\n",
            " '2020-09-12 00:00:00', '2020-07-12 00:00:00']\n",
            "Length: 20, dtype: datetime64[ns]\n",
            "\n",
            "🔹 Coluna: dias_desde_ultima_compra\n",
            "89 valores únicos. Exibindo os 20 primeiros:\n",
            "[ 0  1  2  3  4  5  6  7  8  9 10 11 12 13 14 15 16 17 18 19]\n",
            "\n",
            "🔹 Coluna: gasto_com_eletronicos\n",
            "729 valores únicos. Exibindo os 20 primeiros:\n",
            "[  5. 213. 275.  40. 308. 266.  80. 454.  27. 189. 464. 134.  10.   6.\n",
            " 336. 769.  78. 384. 450. 140.]\n",
            "\n",
            "🔹 Coluna: gasto_com_brinquedos\n",
            "157 valores únicos. Exibindo os 20 primeiros:\n",
            "[  0.   9.  11.   2.  21.   1. 104.   5.  16. 130.  80.  26.   4.  82.\n",
            "  10.   6. 174.   7.  42.  12.]\n",
            "\n",
            "🔹 Coluna: gasto_com_moveis\n",
            "523 valores únicos. Exibindo os 20 primeiros:\n",
            "[  3.  76.  68.  23.  73. 300.  37. 171.  12. 379.  64.  59.   1.  24.\n",
            " 411. 252.  11. 102. 535.  61.]\n",
            "\n",
            "🔹 Coluna: gasto_com_utilidades\n",
            "179 valores únicos. Exibindo os 20 primeiros:\n",
            "[  0.   4.  25.  65.   8. 111.   7.  15.  11. 240.  21.  73.  80.   3.\n",
            "   2.  13.  50. 106. 138.  43.]\n",
            "\n",
            "🔹 Coluna: gasto_com_alimentos\n",
            "168 valores únicos. Exibindo os 20 primeiros:\n",
            "[  0.   3.   7.   4.   8.   1.  19. 189.   2.  32.  34.  98.  13.  20.\n",
            "  16.  30. 197.  14.  89. 172.]\n",
            "\n",
            "🔹 Coluna: gasto_com_vestuario\n",
            "206 valores únicos. Exibindo os 20 primeiros:\n",
            "[  5.  30.   7.  23.  44.   3.  32. 218.  37.   0.  34.  43.  65.  26.\n",
            "   4. 102. 321.  22.   2.  10.]\n",
            "\n",
            "🔹 Coluna: numero_de_compras_com_desconto\n",
            "[ 1  3  2  4 12  0  7  5  6 11  9  8 10 15 13]\n",
            "[ 1  3  2  4 12  0  7  5  6 11  9  8 10 15 13]\n",
            "\n",
            "🔹 Coluna: numero_de_compras_na_web\n",
            "[ 1  5  2  8  9  4  7  3 10  6 25  0 11 27]\n",
            "[ 1  5  2  8  9  4  7  3 10  6 25  0 11 27]\n",
            "\n",
            "🔹 Coluna: numero_de_compras_via_catalogo\n",
            "[ 0  2  1  8  4  3  7 10  6  5  9 11 28]\n",
            "[ 0  2  1  8  4  3  7 10  6  5  9 11 28]\n",
            "\n",
            "🔹 Coluna: numero_de_compras_na_loja\n",
            "[ 2  5  8  3  6  4  7  9 10  0 13 12  1 11]\n",
            "[ 2  5  8  3  6  4  7  9 10  0 13 12  1 11]\n",
            "\n",
            "🔹 Coluna: numero_visitas_website_mes\n",
            "[ 7  5  4  6  8  1  2  3  9  0 17 13 10 14 19 20]\n",
            "[ 7  5  4  6  8  1  2  3  9  0 17 13 10 14 19 20]\n",
            "\n",
            "🔹 Coluna: compra_na_campanha_1\n",
            "['Não' 'Sim']\n",
            "['Não' 'Sim']\n",
            "\n",
            "🔹 Coluna: compra_na_campanha_2\n",
            "['Não' 'Sim']\n",
            "['Não' 'Sim']\n",
            "\n",
            "🔹 Coluna: compra_na_campanha_3\n",
            "['Não' 'Sim']\n",
            "['Não' 'Sim']\n",
            "\n",
            "🔹 Coluna: compra_na_campanha_4\n",
            "['Não' 'Sim']\n",
            "['Não' 'Sim']\n",
            "\n",
            "🔹 Coluna: compra_na_campanha_5\n",
            "['Não' 'Sim']\n",
            "['Não' 'Sim']\n",
            "\n",
            "🔹 Coluna: comprou\n",
            "['Não' 'Sim']\n",
            "['Não' 'Sim']\n",
            "\n",
            "🔹 Coluna: pais\n",
            "['Chile' 'Espanha' 'Argentina' 'Alemanha' 'Estados Unidos' 'Portugal'\n",
            " 'Brasil']\n",
            "['Chile' 'Espanha' 'Argentina' 'Alemanha' 'Estados Unidos' 'Portugal'\n",
            " 'Brasil']\n",
            "\n",
            "🔹 Coluna: ano_cadastro\n",
            "[2020 2023 2022 2021 2018 2019]\n",
            "[2020 2023 2022 2021 2018 2019]\n",
            "\n",
            "🔹 Coluna: mes_cadastro\n",
            "[ 1 12  2  5 11  4  7  3  8  9 10  6]\n",
            "[ 1 12  2  5 11  4  7  3  8  9 10  6]\n",
            "\n",
            "🔹 Coluna: mes_nome_cadastro\n",
            "['Janeiro' 'Dezembro' 'Fevereiro' 'Maio' 'Novembro' 'Abril' 'Julho'\n",
            " 'Março' 'Agosto' 'Setembro' 'Outubro' 'Junho']\n",
            "['Janeiro' 'Dezembro' 'Fevereiro' 'Maio' 'Novembro' 'Abril' 'Julho'\n",
            " 'Março' 'Agosto' 'Setembro' 'Outubro' 'Junho']\n",
            "\n",
            "🔹 Coluna: dia_cadastro\n",
            "[ 7  5  3  2 11 10  9  6  4  1 12  8]\n",
            "[ 7  5  3  2 11 10  9  6  4  1 12  8]\n",
            "\n",
            "🔹 Coluna: dia_semana_cadastro\n",
            "['Terça-feira' 'Sexta-feira' 'Quarta-feira' 'Segunda-feira' 'Sábado'\n",
            " 'Quinta-feira' 'Domingo']\n",
            "['Terça-feira' 'Sexta-feira' 'Quarta-feira' 'Segunda-feira' 'Sábado'\n",
            " 'Quinta-feira' 'Domingo']\n",
            "\n",
            "🔹 Coluna: semana_cadastro\n",
            "37 valores únicos. Exibindo os 20 primeiros:\n",
            "[ 2 49  5 18 45 15 14 27  9 31 26 13 44 10 37 28 19 46 41 36]\n",
            "\n",
            "🔹 Coluna: idade\n",
            "57 valores únicos. Exibindo os 20 primeiros:\n",
            "[67 71 59 46 49 56 60 69 55 64 58 36 78 66 44 48 65 50 54 39]\n",
            "\n",
            "🔹 Coluna: faixa_etária\n",
            "['60+', '46-60', '31-45', NaN, '18-30']\n",
            "Categories (4, object): ['18-30' < '31-45' < '46-60' < '60+']\n",
            "['60+', '46-60', '31-45', NaN, '18-30']\n",
            "Categories (4, object): ['18-30' < '31-45' < '46-60' < '60+']\n",
            "\n",
            "🔹 Coluna: filhos\n",
            "['Sim' 'Não']\n",
            "['Sim' 'Não']\n",
            "\n",
            "🔹 Coluna: gasto_total\n",
            "972 valores únicos. Exibindo os 20 primeiros:\n",
            "[  13.  335.  393.   92.  404.  704.  122.  684.   45. 1190.  577.  251.\n",
            "   11.   91. 1192. 1215.   96.  544. 1208.  222.]\n",
            "\n",
            "🔹 Coluna: total_compras\n",
            "38 valores únicos. Exibindo os 20 primeiros:\n",
            "[ 4 15 17  8 16 26 10 31  7 18 11 28 20 22 12  5 25 14  6 19]\n",
            "\n",
            "🔹 Coluna: comprou_em_campanha\n",
            "['Não' 'Sim']\n",
            "['Não' 'Sim']\n",
            "\n",
            "🔹 Coluna: engajamento_em_campanhas\n",
            "[0 2 3 5 4]\n",
            "[0 2 3 5 4]\n"
          ]
        }
      ],
      "source": [
        "for col in df.columns:\n",
        "    print(f\"\\n🔹 Coluna: {col}\")\n",
        "    valores = df[col].unique()\n",
        "    print(valores if len(valores) <= 20 else f\"{len(valores)} valores únicos. Exibindo os 20 primeiros:\")\n",
        "    print(valores[:20])"
      ]
    },
    {
      "cell_type": "markdown",
      "metadata": {
        "id": "Sd5Tu2m0b3Kc"
      },
      "source": [
        "### Estatísticas Básicas"
      ]
    },
    {
      "cell_type": "code",
      "execution_count": 53,
      "metadata": {
        "colab": {
          "base_uri": "https://localhost:8080/"
        },
        "collapsed": true,
        "id": "lQ54kk4-YBI_",
        "outputId": "8cab77c2-9db2-4a2c-8bcc-b1db8a830ef4"
      },
      "outputs": [
        {
          "name": "stdout",
          "output_type": "stream",
          "text": [
            "       ano_nascimento  salario_anual  filhos_em_casa  adolescentes_em_casa  \\\n",
            "count     1981.000000    1981.000000      1981.00000           1981.000000   \n",
            "mean      1968.796567   52290.852600         0.44523              0.502776   \n",
            "std         11.981657   25484.701911         0.53433              0.539938   \n",
            "min       1893.000000    1730.000000         0.00000              0.000000   \n",
            "25%       1959.000000   35196.000000         0.00000              0.000000   \n",
            "50%       1970.000000   51766.000000         0.00000              0.000000   \n",
            "75%       1977.000000   68281.000000         1.00000              1.000000   \n",
            "max       1996.000000  666666.000000         2.00000              2.000000   \n",
            "\n",
            "       dias_desde_ultima_compra  gasto_com_eletronicos  gasto_com_brinquedos  \\\n",
            "count               1981.000000            1981.000000           1981.000000   \n",
            "mean                  43.647653             304.747097             26.347299   \n",
            "std                   25.819537             338.425386             40.320465   \n",
            "min                    0.000000               0.000000              0.000000   \n",
            "25%                   22.000000              23.000000              1.000000   \n",
            "50%                   45.000000             176.000000              8.000000   \n",
            "75%                   66.000000             504.000000             32.000000   \n",
            "max                   88.000000            1493.000000            199.000000   \n",
            "\n",
            "       gasto_com_moveis  gasto_com_utilidades  gasto_com_alimentos  ...  \\\n",
            "count       1981.000000            1981.00000          1981.000000  ...   \n",
            "mean         164.696113              37.65371            26.763756  ...   \n",
            "std          222.047621              54.83439            40.737106  ...   \n",
            "min            0.000000               0.00000             0.000000  ...   \n",
            "25%           16.000000               3.00000             1.000000  ...   \n",
            "50%           68.000000              12.00000             8.000000  ...   \n",
            "75%          227.000000              50.00000            33.000000  ...   \n",
            "max         1725.000000             259.00000           262.000000  ...   \n",
            "\n",
            "       numero_de_compras_na_loja  numero_visitas_website_mes  ano_cadastro  \\\n",
            "count                1981.000000                 1981.000000   1981.000000   \n",
            "mean                    5.804644                    5.329127   2021.040888   \n",
            "std                     3.275205                    2.440340      1.646497   \n",
            "min                     0.000000                    0.000000   2018.000000   \n",
            "25%                     3.000000                    3.000000   2020.000000   \n",
            "50%                     5.000000                    6.000000   2021.000000   \n",
            "75%                     8.000000                    7.000000   2023.000000   \n",
            "max                    13.000000                   20.000000   2023.000000   \n",
            "\n",
            "       mes_cadastro  dia_cadastro  semana_cadastro        idade  gasto_total  \\\n",
            "count   1981.000000   1981.000000      1981.000000  1981.000000  1981.000000   \n",
            "mean       4.763756      6.437658        17.940434    56.203433   603.816759   \n",
            "std        2.905015      3.497441        12.968941    11.981657   599.930106   \n",
            "min        1.000000      1.000000         1.000000    29.000000     5.000000   \n",
            "25%        3.000000      3.000000         9.000000    48.000000    68.000000   \n",
            "50%        4.000000      6.000000        14.000000    55.000000   397.000000   \n",
            "75%        7.000000     10.000000        27.000000    66.000000  1040.000000   \n",
            "max       12.000000     12.000000        52.000000   132.000000  2525.000000   \n",
            "\n",
            "       total_compras  engajamento_em_campanhas  \n",
            "count    1981.000000               1981.000000  \n",
            "mean       14.848561                  0.505300  \n",
            "std         7.678600                  1.049096  \n",
            "min         0.000000                  0.000000  \n",
            "25%         8.000000                  0.000000  \n",
            "50%        15.000000                  0.000000  \n",
            "75%        21.000000                  0.000000  \n",
            "max        44.000000                  5.000000  \n",
            "\n",
            "[8 rows x 24 columns]\n"
          ]
        }
      ],
      "source": [
        "# Seleciona colunas numéricas, excluindo 'id' e datas\n",
        "colunas_numericas = df.select_dtypes(include=['int64', 'float64']).columns\n",
        "colunas_numericas = [col for col in colunas_numericas if col != 'id']\n",
        "\n",
        "# Exibe estatísticas básicas\n",
        "print(df[colunas_numericas].describe())"
      ]
    },
    {
      "cell_type": "markdown",
      "metadata": {
        "id": "010c57ff"
      },
      "source": [
        "### Detecção de Outliers"
      ]
    },
    {
      "cell_type": "code",
      "execution_count": 54,
      "metadata": {
        "colab": {
          "base_uri": "https://localhost:8080/"
        },
        "collapsed": true,
        "id": "8af23bdb",
        "outputId": "ddab492b-aedd-4e91-c630-947e4a3367bd"
      },
      "outputs": [
        {
          "name": "stdout",
          "output_type": "stream",
          "text": [
            "\n",
            "Coluna: ano_nascimento\n",
            "Outliers detectados: 2\n",
            "Valores extremos: [1893 1899]\n",
            "\n",
            "Coluna: salario_anual\n",
            "Outliers detectados: 7\n",
            "Valores extremos: [157146. 160803. 666666. 162397. 157733. 153924. 156924.]\n",
            "\n",
            "Coluna: filhos_em_casa\n",
            "Outliers detectados: 0\n",
            "Valores extremos: []\n",
            "\n",
            "Coluna: adolescentes_em_casa\n",
            "Outliers detectados: 0\n",
            "Valores extremos: []\n",
            "\n",
            "Coluna: dias_desde_ultima_compra\n",
            "Outliers detectados: 0\n",
            "Valores extremos: []\n",
            "\n",
            "Coluna: gasto_com_eletronicos\n",
            "Outliers detectados: 33\n",
            "Valores extremos: [1285. 1248. 1296. 1462. 1478. 1302. 1239. 1349. 1308. 1230. 1332. 1253.\n",
            " 1394. 1276. 1288. 1493. 1311. 1486. 1492. 1259. 1241. 1245. 1459. 1379.\n",
            " 1298. 1315. 1396. 1324. 1449.]\n",
            "\n",
            "Coluna: gasto_com_brinquedos\n",
            "Outliers detectados: 223\n",
            "Valores extremos: [104. 130.  80.  82. 174. 169. 107. 105.  81.  96.  86. 193.  83. 148.\n",
            " 103. 142.  97. 117. 134. 153. 106.  88. 133.  99. 129.  93. 185.  79.\n",
            " 162. 168.  98. 172. 140. 194.  91. 183. 151. 197. 178. 189. 102. 155.\n",
            " 115.  90. 114. 199. 154. 123. 108. 137. 120.  84. 112. 160. 159. 111.\n",
            " 147. 143. 161. 144. 181.  89. 132. 138. 184. 122.  85. 149. 152. 100.\n",
            " 164. 101.  87.  92. 166. 126. 124. 190. 131. 163.]\n",
            "\n",
            "Coluna: gasto_com_moveis\n",
            "Outliers detectados: 163\n",
            "Valores extremos: [ 706.  816.  981.  653.  780.  559.  547.  849.  560.  751.  785.  678.\n",
            "  786.  592.  898.  694.  873.  594.  569.  732.  548.  850.  651. 1725.\n",
            "  697.  687.  622.  731.  804.  842.  599.  570.  565.  670.  575.  689.\n",
            "  673.  733.  827.  590. 1622.  711.  812.  545.  797.  649.  549.  573.\n",
            "  558.  572.  915.  890.  754.  761.  835.  853.  555.  625.  925.  690.\n",
            "  562.  655.  595.  951.  845.  601.  779.  792.  860.  818.  561.  631.\n",
            "  929.  974.  753.  617.  708.  921.  746.  613.  704.  639. 1607.  550.\n",
            "  597.  604.  815.  961.  546.  567.  749.  553.  607.  843.  790.  899.\n",
            "  614.  883.  640.  768.  554.  685.  568.  672.  935.  747.  713.  740.\n",
            "  611.  591.  724.  602.  756.  758.  603.  750.  586.  693.  674.  940.\n",
            "  606.  716.  913.  717.  735.  932.  813.  654.  984.  612.  629.]\n",
            "\n",
            "Coluna: gasto_com_utilidades\n",
            "Outliers detectados: 198\n",
            "Valores extremos: [240. 138. 189. 224. 150. 134. 193. 180. 140. 137. 168. 205. 172. 229.\n",
            " 259. 127. 130. 145. 218. 247. 124. 185. 182. 160. 136. 175. 162. 216.\n",
            " 142. 207. 192. 123. 166. 201. 169. 219. 125. 151. 242. 234. 253. 258.\n",
            " 227. 188. 128. 141. 250. 159. 121. 232. 184. 179. 158. 153. 171. 202.\n",
            " 173. 132. 164. 197. 210. 199. 181. 237. 129. 156. 149. 167. 231. 220.\n",
            " 212. 198. 208. 133. 254. 177. 246. 223. 146. 186. 225. 147.]\n",
            "\n",
            "Coluna: gasto_com_alimentos\n",
            "Outliers detectados: 218\n",
            "Valores extremos: [189.  98. 197.  89. 172. 160.  92. 138. 167. 178.  99. 101. 123.  82.\n",
            "  96. 176. 128. 151. 133. 134. 148. 262.  97. 121. 142. 198.  83. 149.\n",
            " 175. 162. 137.  94. 114. 102. 141. 110. 152. 112. 115.  85. 126. 163.\n",
            "  91.  95. 120. 116. 125. 144. 122. 106.  88. 185. 130. 107. 143. 105.\n",
            " 111. 108. 179. 118.  93. 103.  84. 161. 147. 194. 192. 109. 150.  86.\n",
            " 153. 165. 187. 132. 191. 174.  87. 196. 157. 169. 136. 139. 100. 129.\n",
            " 166. 173. 188. 182. 156.]\n",
            "\n",
            "Coluna: gasto_com_vestuario\n",
            "Outliers detectados: 189\n",
            "Valores extremos: [218. 321. 197. 172. 125. 262. 129. 145. 143. 168. 150. 128. 148. 191.\n",
            " 147. 181. 135. 160. 153. 130. 133. 152. 134. 140. 138. 166. 241. 157.\n",
            " 219. 231. 183. 205. 177. 192. 246. 127. 144. 141. 248. 196. 139. 190.\n",
            " 174. 170. 182. 169. 233. 146. 198. 176. 171. 242. 158. 232. 227. 203.\n",
            " 142. 200. 224. 207. 154. 216. 151. 132. 223. 137. 247. 163. 126. 149.\n",
            " 162. 185. 204. 173. 245. 195. 161. 131. 187. 215. 159. 249. 210. 180.\n",
            " 178. 229.]\n",
            "\n",
            "Coluna: numero_de_compras_com_desconto\n",
            "Outliers detectados: 77\n",
            "Valores extremos: [12  7 11  9  8 10 15 13]\n",
            "\n",
            "Coluna: numero_de_compras_na_web\n",
            "Outliers detectados: 2\n",
            "Valores extremos: [25 27]\n",
            "\n",
            "Coluna: numero_de_compras_via_catalogo\n",
            "Outliers detectados: 18\n",
            "Valores extremos: [11 28]\n",
            "\n",
            "Coluna: numero_de_compras_na_loja\n",
            "Outliers detectados: 0\n",
            "Valores extremos: []\n",
            "\n",
            "Coluna: numero_visitas_website_mes\n",
            "Outliers detectados: 8\n",
            "Valores extremos: [17 14 19 20]\n",
            "\n",
            "Coluna: ano_cadastro\n",
            "Outliers detectados: 0\n",
            "Valores extremos: []\n",
            "\n",
            "Coluna: mes_cadastro\n",
            "Outliers detectados: 0\n",
            "Valores extremos: []\n",
            "\n",
            "Coluna: dia_cadastro\n",
            "Outliers detectados: 0\n",
            "Valores extremos: []\n",
            "\n",
            "Coluna: semana_cadastro\n",
            "Outliers detectados: 0\n",
            "Valores extremos: []\n",
            "\n",
            "Coluna: idade\n",
            "Outliers detectados: 2\n",
            "Valores extremos: [132 126]\n",
            "\n",
            "Coluna: gasto_total\n",
            "Outliers detectados: 3\n",
            "Valores extremos: [2525. 2524.]\n",
            "\n",
            "Coluna: total_compras\n",
            "Outliers detectados: 2\n",
            "Valores extremos: [44 43]\n",
            "\n",
            "Coluna: engajamento_em_campanhas\n",
            "Outliers detectados: 410\n",
            "Valores extremos: [2 3 5 4]\n"
          ]
        }
      ],
      "source": [
        "outliers = {}\n",
        "\n",
        "for col in colunas_numericas:\n",
        "    Q1 = df[col].quantile(0.25)\n",
        "    Q3 = df[col].quantile(0.75)\n",
        "    IQR = Q3 - Q1\n",
        "    limite_inferior = Q1 - 1.5 * IQR\n",
        "    limite_superior = Q3 + 1.5 * IQR\n",
        "\n",
        "    # Identifica outliers\n",
        "    outlier_mask = (df[col] < limite_inferior) | (df[col] > limite_superior)\n",
        "    outliers[col] = df[col][outlier_mask]\n",
        "\n",
        "    print(f\"\\nColuna: {col}\")\n",
        "    print(f\"Outliers detectados: {outlier_mask.sum()}\")\n",
        "    print(f\"Valores extremos: {df[col][outlier_mask].unique()}\")"
      ]
    },
    {
      "cell_type": "markdown",
      "metadata": {
        "id": "HB8XsE9Eq93z"
      },
      "source": [
        "### Tratamento de Outliers"
      ]
    },
    {
      "cell_type": "code",
      "execution_count": 55,
      "metadata": {
        "colab": {
          "base_uri": "https://localhost:8080/"
        },
        "collapsed": true,
        "id": "bCIfuDa4tXJ-",
        "outputId": "8160c235-ed31-461f-ba72-37de78abed73"
      },
      "outputs": [
        {
          "name": "stdout",
          "output_type": "stream",
          "text": [
            "        id  idade  ano_nascimento\n",
            "513  11004    132            1893\n",
            "827   1150    126            1899\n"
          ]
        }
      ],
      "source": [
        "# Localiza registros com ano de nascimento incoerente\n",
        "df_outliers_nascimento = df[df['ano_nascimento'] < 1920]\n",
        "print(df_outliers_nascimento[['id', 'idade', 'ano_nascimento']])"
      ]
    },
    {
      "cell_type": "code",
      "execution_count": 56,
      "metadata": {
        "colab": {
          "base_uri": "https://localhost:8080/"
        },
        "collapsed": true,
        "id": "wzFIf-wMwS1V",
        "outputId": "4fa8907a-54d5-47ae-f881-ee2a1361ac05"
      },
      "outputs": [
        {
          "name": "stdout",
          "output_type": "stream",
          "text": [
            "Foram removidas 2 linhas com idade incoerente.\n"
          ]
        }
      ],
      "source": [
        "# Remoção dos registros de idade incoerente\n",
        "df_sem_nulos = df.shape[0]\n",
        "df = df.drop(df_outliers_nascimento.index)\n",
        "df_sem_ano_incoerente = df.shape[0]\n",
        "print(f'Foram removidas {df_sem_nulos - df_sem_ano_incoerente} linhas com idade incoerente.')"
      ]
    },
    {
      "cell_type": "markdown",
      "metadata": {
        "id": "46c975f5"
      },
      "source": [
        "### Salvamento do Dataset Limpo"
      ]
    },
    {
      "cell_type": "code",
      "execution_count": 57,
      "metadata": {
        "colab": {
          "base_uri": "https://localhost:8080/"
        },
        "id": "qjk9WsC5pD3X",
        "outputId": "3bbf8d31-5a79-4569-ab98-33de967ed3c5"
      },
      "outputs": [
        {
          "name": "stdout",
          "output_type": "stream",
          "text": [
            "Tamanho inicial do DataFrame: 2000 linhas\n",
            "Tamanho final do DataFrame: 1979 linhas\n",
            "Total de linhas removidas: 21 linhas\n",
            "Porcentagem de linhas removidas:  1.05 %\n"
          ]
        }
      ],
      "source": [
        "print(f'Tamanho inicial do DataFrame: {df_inicial} linhas')\n",
        "print(f'Tamanho final do DataFrame: {df.shape[0]} linhas')\n",
        "print(f'Total de linhas removidas: {df_inicial - df.shape[0]} linhas')\n",
        "\n",
        "porcentagem = (df_inicial - df.shape[0]) / df_inicial * 100\n",
        "print(f'Porcentagem de linhas removidas: {porcentagem: .2f} %')"
      ]
    },
    {
      "cell_type": "code",
      "execution_count": 58,
      "metadata": {
        "colab": {
          "base_uri": "https://localhost:8080/"
        },
        "id": "86f7d470",
        "outputId": "27de5f79-70a5-4923-9176-fa9a0d4542c7"
      },
      "outputs": [
        {
          "name": "stdout",
          "output_type": "stream",
          "text": [
            "Dataset limpo salvo em: /content/drive/MyDrive/Estudos/Dados/Marketing/dados_marketing_limpo.csv\n"
          ]
        }
      ],
      "source": [
        "# Salvamento condicional\n",
        "output_path = '/content/drive/MyDrive/Estudos/Dados/Marketing/dados_marketing_limpo.csv'\n",
        "output_dir = os.path.dirname(output_path)\n",
        "\n",
        "if not os.path.exists(output_dir):\n",
        "    os.makedirs(output_dir)\n",
        "\n",
        "df.to_csv(output_path, index=False, encoding='utf-8')\n",
        "print(f'Dataset limpo salvo em: {output_path}')"
      ]
    }
  ],
  "metadata": {
    "colab": {
      "collapsed_sections": [
        "1c7c23c1",
        "ef88e030",
        "018591e3",
        "bb11a725",
        "e6d19053",
        "9c93d3cc",
        "f3a571d1",
        "PcnwMX8RWo5V",
        "R7VqyhpAb80G",
        "Sd5Tu2m0b3Kc"
      ],
      "provenance": []
    },
    "kernelspec": {
      "display_name": "Python 3",
      "name": "python3"
    },
    "language_info": {
      "name": "python"
    }
  },
  "nbformat": 4,
  "nbformat_minor": 0
}
